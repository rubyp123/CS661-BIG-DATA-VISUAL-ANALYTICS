{
 "cells": [
  {
   "cell_type": "markdown",
   "id": "ed6f4a96-08cb-476e-9c27-d1b64eacf2fc",
   "metadata": {},
   "source": [
    "# Assignmnet 3"
   ]
  },
  {
   "cell_type": "markdown",
   "id": "4263bf86-02d3-481e-8126-172b16487889",
   "metadata": {},
   "source": [
    "## Question 1 "
   ]
  },
  {
   "cell_type": "markdown",
   "id": "c630f17f-a8bc-4cf8-9a72-6d9060ecbe1d",
   "metadata": {},
   "source": [
    "###  Importing modules"
   ]
  },
  {
   "cell_type": "code",
   "execution_count": 1,
   "id": "16cfc999-50e3-44dc-b33f-b560a5529867",
   "metadata": {},
   "outputs": [],
   "source": [
    "import numpy as np\n",
    "import vtk\n",
    "from vtk.util.numpy_support import numpy_to_vtk, vtk_to_numpy"
   ]
  },
  {
   "cell_type": "code",
   "execution_count": 2,
   "id": "069acda4-82a8-4cc3-94cd-160a570d8259",
   "metadata": {},
   "outputs": [],
   "source": [
    "def load_dataset(path):\n",
    "    reader = vtk.vtkXMLImageDataReader()\n",
    "    reader.SetFileName(path)\n",
    "    reader.Update()\n",
    "    data = reader.GetOutput()\n",
    "    return data\n"
   ]
  },
  {
   "cell_type": "markdown",
   "id": "2976342c-9ec0-4dd0-9fe2-796672911f09",
   "metadata": {},
   "source": [
    "### Loading Data"
   ]
  },
  {
   "cell_type": "code",
   "execution_count": 3,
   "id": "3e586a8a-41d1-4801-8969-1a225402eb63",
   "metadata": {
    "scrolled": true
   },
   "outputs": [],
   "source": [
    "data = load_dataset(\"tornado3d_vector.vti\")\n",
    "# print(data)"
   ]
  },
  {
   "cell_type": "code",
   "execution_count": 4,
   "id": "fe9094c9-f892-4177-9cf4-19363260291b",
   "metadata": {},
   "outputs": [],
   "source": [
    "bounds = data.GetBounds()\n",
    "\n",
    "# print(bounds)"
   ]
  },
  {
   "cell_type": "markdown",
   "id": "cf1cf25b-22d9-445e-b67c-f16995c19819",
   "metadata": {},
   "source": [
    "### Accessing Vectors array from given Data"
   ]
  },
  {
   "cell_type": "code",
   "execution_count": 5,
   "id": "1083012a-cb76-4299-a48a-7c266006ac89",
   "metadata": {},
   "outputs": [],
   "source": [
    "\n",
    "def get_vector_at_point(data, point):\n",
    "    # Create a probe filter\n",
    "    probe = vtk.vtkProbeFilter()\n",
    "    probe.SetSourceData(data)\n",
    "    \n",
    "    # Set up points for probing\n",
    "    points = vtk.vtkPoints()\n",
    "    points.InsertNextPoint(point)\n",
    "    \n",
    "    # Create polydata and set points\n",
    "    polydata = vtk.vtkPolyData()\n",
    "    polydata.SetPoints(points)\n",
    "    \n",
    "    # Connect polydata to the probe filter\n",
    "    probe.SetInputData(polydata)\n",
    "    probe.Update()\n",
    "    \n",
    "    # Retrieve probed data\n",
    "    probed_data = probe.GetOutput()\n",
    "    \n",
    "    # Get vectors from probed data\n",
    "    vectors = vtk_to_numpy(probed_data.GetPointData().GetVectors())\n",
    "    \n",
    "    # Check if vectors are available\n",
    "    if vectors is None:\n",
    "        return np.array([0.0, 0.0, 0.0])  # No vectors found, return zero vector\n",
    "    else:\n",
    "        return vectors[0]  # Return the vector at the queried point\n",
    "\n",
    "    \n"
   ]
  },
  {
   "cell_type": "markdown",
   "id": "3bffc294-7446-42db-bade-765040fd788f",
   "metadata": {},
   "source": [
    "### RK4 Integration "
   ]
  },
  {
   "cell_type": "code",
   "execution_count": 6,
   "id": "f29037b3-c44b-4a95-b81c-81a2642e8daa",
   "metadata": {},
   "outputs": [],
   "source": [
    "\n",
    "\n",
    "def rk4_integration(data, seed, step_size, max_steps):\n",
    "    # Initialize streamline with seed point\n",
    "    streamline = [seed]\n",
    "    current_point = seed\n",
    "    \n",
    "    for _ in range(max_steps):\n",
    "        # Get vector at current point\n",
    "        vector = get_vector_at_point(data, current_point)\n",
    "        # print(\"Hi\")\n",
    "        # print(vector)\n",
    "        \n",
    "        # Runge-Kutta 4 integration\n",
    "        k1 = step_size * vector\n",
    "        k2 = step_size * get_vector_at_point(data, current_point + 0.5 * k1)\n",
    "        k3 = step_size * get_vector_at_point(data, current_point + 0.5 * k2)\n",
    "        k4 = step_size * get_vector_at_point(data, current_point + k3)\n",
    "        \n",
    "        next_point = current_point + (k1 + 2 * k2 + 2 * k3 + k4) / 6\n",
    "        \n",
    "        # Check if next point is within bounds\n",
    "        bounds = data.GetBounds()\n",
    "        if (next_point[0] <= bounds[0] or next_point[0] >= bounds[1] or\n",
    "            next_point[1] <= bounds[2] or next_point[1] >= bounds[3] or\n",
    "            next_point[2] <= bounds[4] or next_point[2] >= bounds[5]):\n",
    "            break\n",
    "        \n",
    "        # Add next point to streamline\n",
    "        streamline.append(next_point.tolist())\n",
    "        current_point = next_point\n",
    "    \n",
    "    return np.array(streamline)\n"
   ]
  },
  {
   "cell_type": "markdown",
   "id": "3da88cc3-d8d4-4d46-812e-948730c4dbd2",
   "metadata": {},
   "source": [
    "### Visualizing Streamlines "
   ]
  },
  {
   "cell_type": "code",
   "execution_count": 7,
   "id": "43bad9cc-daca-4d22-ab30-cb23665625c3",
   "metadata": {},
   "outputs": [],
   "source": [
    "def visualize_streamline(streamline_points):\n",
    "    # Create a polydata to hold the streamline points\n",
    "    poly_data = vtk.vtkPolyData()\n",
    "    points = vtk.vtkPoints()\n",
    "    for point in streamline_points:\n",
    "        points.InsertNextPoint(point)\n",
    "    poly_data.SetPoints(points)\n",
    "\n",
    "    # Create lines to connect the points\n",
    "    lines = vtk.vtkCellArray()\n",
    "    for i in range(len(streamline_points) - 1):\n",
    "        line = vtk.vtkLine()\n",
    "        line.GetPointIds().SetId(0, i)\n",
    "        line.GetPointIds().SetId(1, i + 1)\n",
    "        lines.InsertNextCell(line)\n",
    "\n",
    "    poly_data.SetLines(lines)\n",
    "\n",
    "    # Write the polydata to a VTKPolyData file\n",
    "    writer = vtk.vtkXMLPolyDataWriter()\n",
    "    writer.SetFileName(\"streamline.vtp\")\n",
    "    writer.SetInputData(poly_data)\n",
    "    writer.Write()\n",
    "    \n",
    "    # Create renderer and render window\n",
    "    renderer = vtk.vtkRenderer()\n",
    "    render_window = vtk.vtkRenderWindow()\n",
    "    render_window.AddRenderer(renderer)\n",
    "    \n",
    "    # Create mapper and actor\n",
    "    mapper = vtk.vtkPolyDataMapper()\n",
    "    mapper.SetInputData(poly_data)\n",
    "    actor = vtk.vtkActor()\n",
    "    actor.SetMapper(mapper)\n",
    "    actor.GetProperty().SetColor(84/255, 176/255, 59/255)  # Set color to green\n",
    "    \n",
    "    # Add actor to the renderer\n",
    "    renderer.AddActor(actor)\n",
    "    \n",
    "    # Set background color\n",
    "    renderer.SetBackground(1, 1, 1)  # White background\n",
    "    \n",
    "    # Create render window interactor\n",
    "    render_window_interactor = vtk.vtkRenderWindowInteractor()\n",
    "    render_window_interactor.SetRenderWindow(render_window)\n",
    "    \n",
    "    # Set up interactor style\n",
    "    style = vtk.vtkInteractorStyleTrackballCamera()\n",
    "    render_window_interactor.SetInteractorStyle(style)\n",
    "    \n",
    "    # Start the rendering loop\n",
    "    render_window.Render()\n",
    "    render_window_interactor.Start()\n"
   ]
  },
  {
   "cell_type": "markdown",
   "id": "af303a54-2668-4b68-b21b-08c108e3ee4c",
   "metadata": {},
   "source": [
    "### Taking seed location as user input  and calculating Streamlines points"
   ]
  },
  {
   "cell_type": "code",
   "execution_count": 8,
   "id": "10486de2-5955-45d5-b3f9-8a99500251d3",
   "metadata": {},
   "outputs": [
    {
     "name": "stdin",
     "output_type": "stream",
     "text": [
      "Enter x coordinate of seed point:  0\n",
      "Enter y coordinate of seed point:  0\n",
      "Enter z coordinate of seed point:  7\n"
     ]
    },
    {
     "name": "stdout",
     "output_type": "stream",
     "text": [
      "vtp file generated successfully.\n"
     ]
    }
   ],
   "source": [
    "def main():\n",
    "    # Get user input for seed location\n",
    "    seed = [float(input(\"Enter x coordinate of seed point: \")),\n",
    "            float(input(\"Enter y coordinate of seed point: \")),\n",
    "            float(input(\"Enter z coordinate of seed point: \"))]\n",
    "\n",
    "    # seed = [9,9,9]\n",
    "\n",
    "    # Define parameters\n",
    "    step_size = 0.05\n",
    "    max_steps = 1000\n",
    "\n",
    "    # Perform RK4 integration in both directions\n",
    "    forward_streamline = rk4_integration(data, seed, step_size, max_steps)\n",
    "    backward_streamline = rk4_integration(data, seed, -step_size, max_steps)\n",
    "    backward_streamline = backward_streamline[1:]\n",
    "\n",
    "    # Combine forward and backward streamlines\n",
    "    combined_streamline = np.concatenate((np.flip(backward_streamline, axis=0), forward_streamline))\n",
    "\n",
    "    # Save combined streamline as VTKPolyData file\n",
    "    visualize_streamline(combined_streamline)\n",
    "    # save_streamline_as_vtp(combined_streamline, \"streamline.vtp\")\n",
    "    print(\"vtp file generated successfully.\")\n",
    "    # print(len(combined_streamline))\n",
    "    \n",
    "\n",
    "if __name__ == \"__main__\":\n",
    "    main()"
   ]
  },
  {
   "cell_type": "code",
   "execution_count": 9,
   "id": "d0e8092b-468c-438c-a16f-af363a5ec288",
   "metadata": {},
   "outputs": [],
   "source": [
    "# print(len(combined_streamline))"
   ]
  },
  {
   "cell_type": "code",
   "execution_count": null,
   "id": "1bb9c056-796c-40dc-92fe-a8668210d24e",
   "metadata": {},
   "outputs": [],
   "source": []
  }
 ],
 "metadata": {
  "kernelspec": {
   "display_name": "Python 3 (ipykernel)",
   "language": "python",
   "name": "python3"
  },
  "language_info": {
   "codemirror_mode": {
    "name": "ipython",
    "version": 3
   },
   "file_extension": ".py",
   "mimetype": "text/x-python",
   "name": "python",
   "nbconvert_exporter": "python",
   "pygments_lexer": "ipython3",
   "version": "3.11.8"
  }
 },
 "nbformat": 4,
 "nbformat_minor": 5
}
