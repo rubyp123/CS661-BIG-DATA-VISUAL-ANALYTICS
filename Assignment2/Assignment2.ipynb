{
 "cells": [
  {
   "cell_type": "markdown",
   "id": "cfa23e1f",
   "metadata": {},
   "source": [
    "# Assignment 2\n",
    "## Ruby Prajapati (231110042)\n",
    "## Anshul Purohit (231110007)"
   ]
  },
  {
   "cell_type": "markdown",
   "id": "65d66484",
   "metadata": {},
   "source": [
    "# Importing modules"
   ]
  },
  {
   "cell_type": "code",
   "execution_count": 1,
   "id": "1e07a667",
   "metadata": {},
   "outputs": [],
   "source": [
    "import plotly.graph_objects as go\n",
    "import plotly.express as px\n",
    "import numpy as np\n",
    "import vtk\n",
    "from vtk.util import numpy_support\n",
    "import ipywidgets as widgets\n",
    "from IPython.display import display\n",
    "from skimage import measure\n",
    "import matplotlib.cm as cm\n",
    "from IPython.display import clear_output"
   ]
  },
  {
   "cell_type": "markdown",
   "id": "9ebf98f2",
   "metadata": {},
   "source": [
    "# Loading Data"
   ]
  },
  {
   "cell_type": "code",
   "execution_count": 2,
   "id": "52a09a85",
   "metadata": {},
   "outputs": [],
   "source": [
    "# Step 1: Load the 3D dataset\n",
    "# Load the VTI dataset\n",
    "vti_file = \"mixture.vti\"\n",
    "reader = vtk.vtkXMLImageDataReader()\n",
    "reader.SetFileName(vti_file)\n",
    "reader.Update()\n",
    "\n",
    "# Get the loaded grid\n",
    "vtk_data = reader.GetOutput()\n"
   ]
  },
  {
   "cell_type": "code",
   "execution_count": 3,
   "id": "f4e03f7b",
   "metadata": {},
   "outputs": [],
   "source": [
    "# Sample function to create isosurface plot\n",
    "data_array = vtk_data.GetPointData().GetScalars()\n",
    "\n",
    "# Convert the data array to a numpy array\n",
    "numpy_data = np.array(data_array)\n"
   ]
  },
  {
   "cell_type": "markdown",
   "id": "a5b2291c",
   "metadata": {},
   "source": [
    "# Extracting grid information"
   ]
  },
  {
   "cell_type": "code",
   "execution_count": 4,
   "id": "3c4f22a3",
   "metadata": {},
   "outputs": [],
   "source": [
    "# Extract grid information\n",
    "dimensions = vtk_data.GetDimensions()\n",
    "spacing = vtk_data.GetSpacing()\n",
    "origin = vtk_data.GetOrigin()\n",
    "dims = vtk_data.GetDimensions()\n",
    "\n",
    "# Generate coordinates\n",
    "x = np.linspace(origin[0], origin[0] + (dimensions[0] - 1) * spacing[0], dimensions[0])\n",
    "y = np.linspace(origin[1], origin[1] + (dimensions[1] - 1) * spacing[1], dimensions[1])\n",
    "z = np.linspace(origin[2], origin[2] + (dimensions[2] - 1) * spacing[2], dimensions[2])\n",
    "\n",
    "# Create meshgrid\n",
    "X, Y, Z = np.meshgrid(x, y, z, indexing='ij')\n",
    "\n",
    "# values \n",
    "values = numpy_data.reshape(dims, order='F')\n",
    "\n",
    "# values = values[:100]\n",
    "# X = X[:100]\n",
    "# Y = Y[:100]\n",
    "# Z = Z[:100]\n"
   ]
  },
  {
   "cell_type": "code",
   "execution_count": 5,
   "id": "b420cc4f",
   "metadata": {},
   "outputs": [
    {
     "name": "stdout",
     "output_type": "stream",
     "text": [
      "[-0.04087147 -0.02041778 -0.0047331  -0.00140164 -0.0117143  -0.03537603\n",
      " -0.06927402 -0.10650624 -0.13915275 -0.16373235]\n"
     ]
    }
   ],
   "source": [
    "# print(values[:10])\n",
    "d = values.flatten()\n",
    "print(d[:10])"
   ]
  },
  {
   "cell_type": "markdown",
   "id": "2cecdeb8",
   "metadata": {},
   "source": [
    "# Creating isosurface"
   ]
  },
  {
   "cell_type": "code",
   "execution_count": 6,
   "id": "cd5b1aa6",
   "metadata": {},
   "outputs": [],
   "source": [
    "def create_isosurface(data, isovalue):\n",
    "    contour_value = isovalue # Example contour value\n",
    "\n",
    "    # Create isosurface\n",
    "    isosurface = go.Isosurface(\n",
    "        x=X.flatten(),\n",
    "        y=Y.flatten(),\n",
    "        z=Z.flatten(),\n",
    "        value=values.flatten(),\n",
    "        isomin=contour_value,\n",
    "        isomax=contour_value,\n",
    "        colorscale='plasma',\n",
    "        cmin = values.min(),\n",
    "        cmax = values.max(),\n",
    "    )\n",
    "    return isosurface"
   ]
  },
  {
   "cell_type": "code",
   "execution_count": 7,
   "id": "55759cec",
   "metadata": {},
   "outputs": [],
   "source": [
    "fig_hist = go.FigureWidget()\n",
    "\n",
    "def update_histogram(iso_value):\n",
    "    hist_data = values.flatten()\n",
    "    if iso_value == 0:\n",
    "    #         set the entire range as given in question\n",
    "        scaler_data_range = hist_data \n",
    "    else:\n",
    "        scaler_data_range = hist_data[((iso_value - 0.25) <= hist_data) & (hist_data <= (iso_value + 0.25))]\n",
    "    histogram = go.Histogram(x=scaler_data_range, nbinsx=30)\n",
    "    \n",
    "    return histogram\n",
    "\n"
   ]
  },
  {
   "cell_type": "markdown",
   "id": "9ab547ee",
   "metadata": {},
   "source": [
    "# Creating reset button"
   ]
  },
  {
   "cell_type": "code",
   "execution_count": 8,
   "id": "f64990e8",
   "metadata": {},
   "outputs": [],
   "source": [
    "\n",
    "# creating reset button \n",
    "\n",
    "reset_button = widgets.Button(description=\"Reset\")\n",
    "\n",
    "def reset_button_clicked(b):\n",
    "    iso_slider.value = 0.0\n",
    "\n",
    "reset_button.on_click(reset_button_clicked)"
   ]
  },
  {
   "cell_type": "markdown",
   "id": "9b521997",
   "metadata": {},
   "source": [
    "# Creating slider for isovalue"
   ]
  },
  {
   "cell_type": "code",
   "execution_count": 9,
   "id": "1d4dc52b",
   "metadata": {},
   "outputs": [],
   "source": [
    "# Step 3: Create slider for isovalue\n",
    "# iso_slider = widgets.FloatSlider(value=0.0, min=0.0, max=np.max(array), step=0.01, description='Isovalue')\n",
    "\n",
    "step = 0.01\n",
    "initial_value = 0.0\n",
    "\n",
    "min_scalar_value = -0.99355406\n",
    "max_scalar_value = 0.43280163\n",
    "\n",
    "# Create the FloatSlider widget\n",
    "iso_slider = widgets.FloatSlider(\n",
    "    min=min_scalar_value,\n",
    "    max=max_scalar_value,\n",
    "    step=step,\n",
    "    value=initial_value,\n",
    "    description='Isoval:',\n",
    "    layout={'width': '50%'},\n",
    "    continuous_update=False\n",
    ")\n"
   ]
  },
  {
   "cell_type": "markdown",
   "id": "c66cb34b",
   "metadata": {},
   "source": [
    "# Updating plots when slider values will change"
   ]
  },
  {
   "cell_type": "code",
   "execution_count": 10,
   "id": "4f77a8ea",
   "metadata": {},
   "outputs": [
    {
     "data": {
      "application/vnd.jupyter.widget-view+json": {
       "model_id": "d36e623261be49689e986bd62e08a045",
       "version_major": 2,
       "version_minor": 0
      },
      "text/plain": [
       "VBox(children=(HBox(children=(FloatSlider(value=-0.59355, continuous_update=False, description='Isoval:', layo…"
      ]
     },
     "metadata": {},
     "output_type": "display_data"
    }
   ],
   "source": [
    "def on_slider_change(change):\n",
    "#     print('hi')\n",
    "    clear_output(wait=True)\n",
    "#     create_isosurface(numpy_data,change.new)\n",
    "    \n",
    "    isosurface_plot = go.FigureWidget(create_isosurface(numpy_data, change.new))\n",
    "    # Update layout to adjust scene dimensions\n",
    "    isosurface_plot.update_layout(\n",
    "        scene=dict(\n",
    "            aspectratio=dict(x=1, y=1, z=1),  # Set aspect ratio to make sure the plot is proportional\n",
    "            xaxis=dict(showticklabels=False),  # Hide tick labels on x-axis\n",
    "            yaxis=dict(showticklabels=False),  # Hide tick labels on y-axis\n",
    "            zaxis=dict(showticklabels=False),  # Hide tick labels on z-axis\n",
    "            camera=dict(eye=dict(x=1.3, y=1.3, z=1.3))  # Adjust camera position to view entire plot\n",
    "        )\n",
    "    )\n",
    "\n",
    "    # Set the size of the plot\n",
    "    isosurface_plot.update_layout(\n",
    "        width=500,  # Set the width of the plot\n",
    "        height=500  # Set the height of the plot\n",
    "    )\n",
    "\n",
    "    # Get the surface trace\n",
    "    surface_trace = isosurface_plot.data[0]\n",
    "\n",
    "    # Update showscale property to False\n",
    "    surface_trace.showscale = False\n",
    "    \n",
    "    fig_hist = go.FigureWidget(update_histogram(change.new))\n",
    "    fig_hist.update_layout(\n",
    "        xaxis_title=\"Vortex scalar values\",\n",
    "        yaxis_title=\"Frequency\",\n",
    "        title=\"Histogram\"\n",
    "    )\n",
    "\n",
    "    top = widgets.HBox([iso_slider,reset_button])\n",
    "    bottom = widgets.HBox([isosurface_plot,fig_hist])\n",
    "    display(widgets.VBox([top,bottom]))\n",
    "    \n",
    "\n",
    "iso_slider.observe(on_slider_change, names='value')\n",
    "\n",
    "isosurface_plot = go.FigureWidget(create_isosurface(numpy_data, 0.0))\n",
    "\n",
    "# Update layout to adjust scene dimensions\n",
    "isosurface_plot.update_layout(\n",
    "    scene=dict(\n",
    "        aspectratio=dict(x=1, y=1, z=1),  # Set aspect ratio to make sure the plot is proportional\n",
    "        xaxis=dict(showticklabels=False),  # Hide tick labels on x-axis\n",
    "        yaxis=dict(showticklabels=False),  # Hide tick labels on y-axis\n",
    "        zaxis=dict(showticklabels=False),  # Hide tick labels on z-axis\n",
    "        camera=dict(eye=dict(x=1.3, y=1.3, z=1.3)),\n",
    "#                    center=dict(x=-0.7, y=-0.5, z=-0.4))  # Adjust camera position to view entire plot\n",
    "    )\n",
    ")\n",
    "\n",
    "# Set the size of the plot\n",
    "isosurface_plot.update_layout(\n",
    "    width=500,  # Set the width of the plot\n",
    "    height=500  # Set the height of the plot\n",
    ")\n",
    "\n",
    "# Get the surface trace\n",
    "surface_trace = isosurface_plot.data[0]\n",
    "\n",
    "# Update showscale property to False\n",
    "surface_trace.showscale = False\n",
    "\n",
    "fig_hist = go.FigureWidget(update_histogram(0.0))\n",
    "fig_hist.update_layout(xaxis_title=\"Vortex scalar values\", yaxis_title=\"Frequency\", title=\"Histogram\")\n",
    "\n",
    "top = widgets.HBox([iso_slider,reset_button])\n",
    "bottom = widgets.HBox([isosurface_plot,fig_hist])\n",
    "display(widgets.VBox([top,bottom]))\n",
    "\n"
   ]
  },
  {
   "cell_type": "code",
   "execution_count": null,
   "id": "a7974ee0",
   "metadata": {},
   "outputs": [],
   "source": []
  }
 ],
 "metadata": {
  "kernelspec": {
   "display_name": "Python 3 (ipykernel)",
   "language": "python",
   "name": "python3"
  },
  "language_info": {
   "codemirror_mode": {
    "name": "ipython",
    "version": 3
   },
   "file_extension": ".py",
   "mimetype": "text/x-python",
   "name": "python",
   "nbconvert_exporter": "python",
   "pygments_lexer": "ipython3",
   "version": "3.9.13"
  }
 },
 "nbformat": 4,
 "nbformat_minor": 5
}
